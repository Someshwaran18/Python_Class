{
 "cells": [
  {
   "cell_type": "markdown",
   "id": "3b1f0b14",
   "metadata": {},
   "source": [
    "# List"
   ]
  },
  {
   "cell_type": "markdown",
   "id": "eef08f77",
   "metadata": {},
   "source": [
    "List(append)"
   ]
  },
  {
   "cell_type": "code",
   "execution_count": 1,
   "id": "e4dc38a5",
   "metadata": {},
   "outputs": [
    {
     "data": {
      "text/plain": [
       "[11, 12, 13, 14, 15, 1]"
      ]
     },
     "execution_count": 1,
     "metadata": {},
     "output_type": "execute_result"
    }
   ],
   "source": [
    "a=[11,12,13,14,15]\n",
    "a.append(1)\n",
    "a"
   ]
  },
  {
   "cell_type": "code",
   "execution_count": 2,
   "id": "ec6f45fa",
   "metadata": {},
   "outputs": [
    {
     "data": {
      "text/plain": [
       "[11, 12, 13, 14, 15, 'hmm']"
      ]
     },
     "execution_count": 2,
     "metadata": {},
     "output_type": "execute_result"
    }
   ],
   "source": [
    "a=[11,12,13,14,15]\n",
    "a.append('hmm')\n",
    "a"
   ]
  },
  {
   "cell_type": "code",
   "execution_count": 3,
   "id": "1b6fd4da",
   "metadata": {},
   "outputs": [
    {
     "data": {
      "text/plain": [
       "[11, 12, 13, 14, 15, 1.23]"
      ]
     },
     "execution_count": 3,
     "metadata": {},
     "output_type": "execute_result"
    }
   ],
   "source": [
    "a=[11,12,13,14,15]\n",
    "a.append(1.23)\n",
    "a"
   ]
  },
  {
   "cell_type": "code",
   "execution_count": 4,
   "id": "0103f9e0",
   "metadata": {},
   "outputs": [
    {
     "data": {
      "text/plain": [
       "[11, 12, 13, 14, 15, (1+2j)]"
      ]
     },
     "execution_count": 4,
     "metadata": {},
     "output_type": "execute_result"
    }
   ],
   "source": [
    "a=[11,12,13,14,15]\n",
    "a.append(1+2j)\n",
    "a"
   ]
  },
  {
   "cell_type": "code",
   "execution_count": 5,
   "id": "25a93357",
   "metadata": {},
   "outputs": [
    {
     "data": {
      "text/plain": [
       "[11, 12, 13, 14, 15, True]"
      ]
     },
     "execution_count": 5,
     "metadata": {},
     "output_type": "execute_result"
    }
   ],
   "source": [
    "a=[11,12,13,14,15]\n",
    "a.append(True)\n",
    "a"
   ]
  },
  {
   "cell_type": "code",
   "execution_count": 6,
   "id": "a4add197",
   "metadata": {},
   "outputs": [
    {
     "data": {
      "text/plain": [
       "[11, 12, 13, 14, 15, [1, 2, 3], 1]"
      ]
     },
     "execution_count": 6,
     "metadata": {},
     "output_type": "execute_result"
    }
   ],
   "source": [
    "a=[11,12,13,14,15,[1,2,3]]\n",
    "a.append(1)\n",
    "a"
   ]
  },
  {
   "cell_type": "code",
   "execution_count": 7,
   "id": "ee661eda",
   "metadata": {},
   "outputs": [
    {
     "data": {
      "text/plain": [
       "[11, 12, 13, 14, 15, (1+2j), 1]"
      ]
     },
     "execution_count": 7,
     "metadata": {},
     "output_type": "execute_result"
    }
   ],
   "source": [
    "a=[11,12,13,14,15,1+2j]\n",
    "a.append(1)\n",
    "a"
   ]
  },
  {
   "cell_type": "markdown",
   "id": "6baef151",
   "metadata": {},
   "source": [
    "List(clear)"
   ]
  },
  {
   "cell_type": "code",
   "execution_count": 8,
   "id": "ef2ded1f",
   "metadata": {},
   "outputs": [
    {
     "data": {
      "text/plain": [
       "[]"
      ]
     },
     "execution_count": 8,
     "metadata": {},
     "output_type": "execute_result"
    }
   ],
   "source": [
    "a=[11,12,13,14,15,[1,2,3]]\n",
    "a.clear()\n",
    "a"
   ]
  },
  {
   "cell_type": "markdown",
   "id": "61e011f1",
   "metadata": {},
   "source": [
    "List(copy)"
   ]
  },
  {
   "cell_type": "code",
   "execution_count": 9,
   "id": "ce368096",
   "metadata": {},
   "outputs": [
    {
     "data": {
      "text/plain": [
       "[11, 12, 13, 14, 15, [1, 2, 3]]"
      ]
     },
     "execution_count": 9,
     "metadata": {},
     "output_type": "execute_result"
    }
   ],
   "source": [
    "a=[11,12,13,14,15,[1,2,3]]\n",
    "a.copy()\n",
    "a        "
   ]
  },
  {
   "cell_type": "code",
   "execution_count": 10,
   "id": "a5ddfbef",
   "metadata": {},
   "outputs": [
    {
     "data": {
      "text/plain": [
       "['A', 'B', [1, 2, 3]]"
      ]
     },
     "execution_count": 10,
     "metadata": {},
     "output_type": "execute_result"
    }
   ],
   "source": [
    "a=['A',\"B\",[1,2,3]]\n",
    "a.copy()\n",
    "a  "
   ]
  },
  {
   "cell_type": "markdown",
   "id": "b83342ad",
   "metadata": {},
   "source": [
    "List(count)"
   ]
  },
  {
   "cell_type": "code",
   "execution_count": 11,
   "id": "6188c1ee",
   "metadata": {},
   "outputs": [
    {
     "data": {
      "text/plain": [
       "3"
      ]
     },
     "execution_count": 11,
     "metadata": {},
     "output_type": "execute_result"
    }
   ],
   "source": [
    "a=[11,12,13,14,15,11,11]\n",
    "b=a.count(11)\n",
    "b"
   ]
  },
  {
   "cell_type": "code",
   "execution_count": 12,
   "id": "46cf37c7",
   "metadata": {},
   "outputs": [
    {
     "data": {
      "text/plain": [
       "0"
      ]
     },
     "execution_count": 12,
     "metadata": {},
     "output_type": "execute_result"
    }
   ],
   "source": [
    "a=[11,12,13,14,15,11,[11,2,3,\"a\"]]\n",
    "b=a.count(\"a\")\n",
    "b"
   ]
  },
  {
   "cell_type": "code",
   "execution_count": 13,
   "id": "88824a69",
   "metadata": {},
   "outputs": [
    {
     "data": {
      "text/plain": [
       "1"
      ]
     },
     "execution_count": 13,
     "metadata": {},
     "output_type": "execute_result"
    }
   ],
   "source": [
    "a=[11,12,13,14,15,11,[11,2,3,\"a\"]]\n",
    "b=a.count([11,2,3,\"a\"])\n",
    "b"
   ]
  },
  {
   "cell_type": "code",
   "execution_count": 14,
   "id": "76e59f75",
   "metadata": {},
   "outputs": [
    {
     "data": {
      "text/plain": [
       "1"
      ]
     },
     "execution_count": 14,
     "metadata": {},
     "output_type": "execute_result"
    }
   ],
   "source": [
    "a=[11,12,13,14,15,11,8+8j]\n",
    "b=a.count(8+8j)\n",
    "b"
   ]
  },
  {
   "cell_type": "markdown",
   "id": "7d5abc42",
   "metadata": {},
   "source": [
    "List(extend)"
   ]
  },
  {
   "cell_type": "code",
   "execution_count": 15,
   "id": "02fba1ab",
   "metadata": {},
   "outputs": [
    {
     "data": {
      "text/plain": [
       "[11, 12, 13, 14, 15, '12']"
      ]
     },
     "execution_count": 15,
     "metadata": {},
     "output_type": "execute_result"
    }
   ],
   "source": [
    "a=[11,12,13,14,15]\n",
    "a.extend(['12'])\n",
    "a"
   ]
  },
  {
   "cell_type": "markdown",
   "id": "1c7b1f78",
   "metadata": {},
   "source": [
    "List(index)"
   ]
  },
  {
   "cell_type": "code",
   "execution_count": 16,
   "id": "3e20c532",
   "metadata": {},
   "outputs": [
    {
     "data": {
      "text/plain": [
       "1"
      ]
     },
     "execution_count": 16,
     "metadata": {},
     "output_type": "execute_result"
    }
   ],
   "source": [
    "a=[11,12,13,14,15]\n",
    "b=a.index(12)\n",
    "b"
   ]
  },
  {
   "cell_type": "code",
   "execution_count": 17,
   "id": "dcd0f5b8",
   "metadata": {},
   "outputs": [
    {
     "data": {
      "text/plain": [
       "1"
      ]
     },
     "execution_count": 17,
     "metadata": {},
     "output_type": "execute_result"
    }
   ],
   "source": [
    "a=[11,12,13,14,15]\n",
    "b"
   ]
  },
  {
   "cell_type": "code",
   "execution_count": 18,
   "id": "a2d94d61",
   "metadata": {},
   "outputs": [
    {
     "data": {
      "text/plain": [
       "5"
      ]
     },
     "execution_count": 18,
     "metadata": {},
     "output_type": "execute_result"
    }
   ],
   "source": [
    "a=[11,12,13,14,15,'hi',8+3j]\n",
    "b=a.index('hi',3,6)\n",
    "b"
   ]
  },
  {
   "cell_type": "markdown",
   "id": "da6a63ae",
   "metadata": {},
   "source": [
    "List(insert)"
   ]
  },
  {
   "cell_type": "code",
   "execution_count": 19,
   "id": "08ac770d",
   "metadata": {},
   "outputs": [
    {
     "data": {
      "text/plain": [
       "[11, 12, 13, 14, 15, 5]"
      ]
     },
     "execution_count": 19,
     "metadata": {},
     "output_type": "execute_result"
    }
   ],
   "source": [
    "a=[11,12,13,14,15]\n",
    "a.insert(5,5)\n",
    "a"
   ]
  },
  {
   "cell_type": "code",
   "execution_count": 20,
   "id": "182141fa",
   "metadata": {},
   "outputs": [
    {
     "data": {
      "text/plain": [
       "[11, 12, 13, 5, 14, 15, 5]"
      ]
     },
     "execution_count": 20,
     "metadata": {},
     "output_type": "execute_result"
    }
   ],
   "source": [
    "a=[11,12,13,14,15]\n",
    "a.insert(5,5)\n",
    "a.insert(3,5)\n",
    "a"
   ]
  },
  {
   "cell_type": "code",
   "execution_count": 21,
   "id": "063fa053",
   "metadata": {},
   "outputs": [
    {
     "data": {
      "text/plain": [
       "[11, 12, 13, 3, 14, 15]"
      ]
     },
     "execution_count": 21,
     "metadata": {},
     "output_type": "execute_result"
    }
   ],
   "source": [
    "a=[11,12,13,14,15]\n",
    "a.insert(3,3)\n",
    "a"
   ]
  },
  {
   "cell_type": "code",
   "execution_count": 22,
   "id": "21c673ba",
   "metadata": {},
   "outputs": [
    {
     "data": {
      "text/plain": [
       "[11, 12, 13, 14, 15, 'hi']"
      ]
     },
     "execution_count": 22,
     "metadata": {},
     "output_type": "execute_result"
    }
   ],
   "source": [
    "a=[11,12,13,14,15]\n",
    "a.insert(5,'hi')\n",
    "a"
   ]
  },
  {
   "cell_type": "markdown",
   "id": "34aea9bf",
   "metadata": {},
   "source": [
    "List(pop)"
   ]
  },
  {
   "cell_type": "code",
   "execution_count": 23,
   "id": "39a0ba74",
   "metadata": {},
   "outputs": [
    {
     "data": {
      "text/plain": [
       "15"
      ]
     },
     "execution_count": 23,
     "metadata": {},
     "output_type": "execute_result"
    }
   ],
   "source": [
    "a=[11,12,13,14,15]\n",
    "a.pop()\n"
   ]
  },
  {
   "cell_type": "code",
   "execution_count": 24,
   "id": "2174aa71",
   "metadata": {},
   "outputs": [
    {
     "data": {
      "text/plain": [
       "[11, 12, 13, 14]"
      ]
     },
     "execution_count": 24,
     "metadata": {},
     "output_type": "execute_result"
    }
   ],
   "source": [
    "a=[11,12,13,14,15]\n",
    "a.pop()\n",
    "a"
   ]
  },
  {
   "cell_type": "code",
   "execution_count": 25,
   "id": "2d2fc0cf",
   "metadata": {},
   "outputs": [
    {
     "data": {
      "text/plain": [
       "[11, 12, 14, 15]"
      ]
     },
     "execution_count": 25,
     "metadata": {},
     "output_type": "execute_result"
    }
   ],
   "source": [
    "a=[11,12,13,14,15]\n",
    "a.pop(2)\n",
    "a"
   ]
  },
  {
   "cell_type": "code",
   "execution_count": 26,
   "id": "fb4aab69",
   "metadata": {},
   "outputs": [
    {
     "data": {
      "text/plain": [
       "[11, 12, 13, 14]"
      ]
     },
     "execution_count": 26,
     "metadata": {},
     "output_type": "execute_result"
    }
   ],
   "source": [
    "a=[11,12,13,14,15]\n",
    "a.pop(-1)\n",
    "a"
   ]
  },
  {
   "cell_type": "code",
   "execution_count": 27,
   "id": "2ab829b8",
   "metadata": {},
   "outputs": [
    {
     "data": {
      "text/plain": [
       "[12, 13, 14, 15]"
      ]
     },
     "execution_count": 27,
     "metadata": {},
     "output_type": "execute_result"
    }
   ],
   "source": [
    "a=[11,12,13,14,15]\n",
    "a.pop(-5)\n",
    "a"
   ]
  },
  {
   "cell_type": "code",
   "execution_count": 28,
   "id": "e6ea052a",
   "metadata": {},
   "outputs": [
    {
     "data": {
      "text/plain": [
       "[11, 12, 13, 15]"
      ]
     },
     "execution_count": 28,
     "metadata": {},
     "output_type": "execute_result"
    }
   ],
   "source": [
    "a=[11,12,13,14,15]\n",
    "a.pop(3)\n",
    "a"
   ]
  },
  {
   "cell_type": "markdown",
   "id": "238c8e21",
   "metadata": {},
   "source": [
    "List(remove)"
   ]
  },
  {
   "cell_type": "code",
   "execution_count": 29,
   "id": "b232006e",
   "metadata": {},
   "outputs": [
    {
     "data": {
      "text/plain": [
       "[11, 13, 14, 15]"
      ]
     },
     "execution_count": 29,
     "metadata": {},
     "output_type": "execute_result"
    }
   ],
   "source": [
    "a=[11,12,13,14,15]\n",
    "a.remove(12)\n",
    "a"
   ]
  },
  {
   "cell_type": "code",
   "execution_count": 30,
   "id": "0baa0363",
   "metadata": {},
   "outputs": [
    {
     "data": {
      "text/plain": [
       "[11, 12, 13, 11, 14, 15]"
      ]
     },
     "execution_count": 30,
     "metadata": {},
     "output_type": "execute_result"
    }
   ],
   "source": [
    "a=[11,11,12,13,11,14,15]\n",
    "a.remove(11)\n",
    "a"
   ]
  },
  {
   "cell_type": "markdown",
   "id": "686787d6",
   "metadata": {},
   "source": [
    "List(reverse)"
   ]
  },
  {
   "cell_type": "code",
   "execution_count": 31,
   "id": "6ae473bf",
   "metadata": {},
   "outputs": [
    {
     "data": {
      "text/plain": [
       "[15, 14, 13, 12, 11]"
      ]
     },
     "execution_count": 31,
     "metadata": {},
     "output_type": "execute_result"
    }
   ],
   "source": [
    "a=[11,12,13,14,15]\n",
    "a.reverse()\n",
    "a"
   ]
  },
  {
   "cell_type": "markdown",
   "id": "e1d5c749",
   "metadata": {},
   "source": [
    "List(sort)"
   ]
  },
  {
   "cell_type": "code",
   "execution_count": 32,
   "id": "7ee3707b",
   "metadata": {},
   "outputs": [
    {
     "data": {
      "text/plain": [
       "[11, 11, 12, 12, 13, 13, 14, 14, 15, 15]"
      ]
     },
     "execution_count": 32,
     "metadata": {},
     "output_type": "execute_result"
    }
   ],
   "source": [
    "a=[15,14,13,12,11,11,12,13,14,15]\n",
    "a.sort()\n",
    "a"
   ]
  },
  {
   "cell_type": "code",
   "execution_count": 33,
   "id": "8c4aa971",
   "metadata": {},
   "outputs": [
    {
     "data": {
      "text/plain": [
       "[15, 15, 14, 14, 13, 13, 12, 12, 11, 11]"
      ]
     },
     "execution_count": 33,
     "metadata": {},
     "output_type": "execute_result"
    }
   ],
   "source": [
    "a=[15,14,13,12,11,11,12,13,14,15]\n",
    "a.sort(reverse=True)\n",
    "a"
   ]
  },
  {
   "cell_type": "markdown",
   "id": "eb879e20",
   "metadata": {},
   "source": [
    "# SET"
   ]
  },
  {
   "cell_type": "markdown",
   "id": "57e1fa59",
   "metadata": {},
   "source": [
    "set(add)"
   ]
  },
  {
   "cell_type": "code",
   "execution_count": 34,
   "id": "b0d011dd",
   "metadata": {},
   "outputs": [],
   "source": [
    "a={1,2,3,4,5}\n",
    "b={4,5,6,7,8}"
   ]
  },
  {
   "cell_type": "code",
   "execution_count": 35,
   "id": "8e8ecc34",
   "metadata": {},
   "outputs": [
    {
     "data": {
      "text/plain": [
       "{1, 2, 3, 4, 5, 7}"
      ]
     },
     "execution_count": 35,
     "metadata": {},
     "output_type": "execute_result"
    }
   ],
   "source": [
    "a.add(7)\n",
    "a"
   ]
  },
  {
   "cell_type": "code",
   "execution_count": 36,
   "id": "de8cf80b",
   "metadata": {},
   "outputs": [
    {
     "data": {
      "text/plain": [
       "{3, 4, 5, 6, 7, 8}"
      ]
     },
     "execution_count": 36,
     "metadata": {},
     "output_type": "execute_result"
    }
   ],
   "source": [
    "b.add(3)\n",
    "b"
   ]
  },
  {
   "cell_type": "markdown",
   "id": "5abc8447",
   "metadata": {},
   "source": [
    "set(clear)"
   ]
  },
  {
   "cell_type": "code",
   "execution_count": 37,
   "id": "36ee3491",
   "metadata": {},
   "outputs": [],
   "source": [
    "a={1,2,3,4,5}\n",
    "b={4,5,6,7,8}"
   ]
  },
  {
   "cell_type": "code",
   "execution_count": 38,
   "id": "c8060bfb",
   "metadata": {},
   "outputs": [
    {
     "data": {
      "text/plain": [
       "set()"
      ]
     },
     "execution_count": 38,
     "metadata": {},
     "output_type": "execute_result"
    }
   ],
   "source": [
    "a.clear()\n",
    "a"
   ]
  },
  {
   "cell_type": "markdown",
   "id": "cb7dea65",
   "metadata": {},
   "source": [
    "set(copy)"
   ]
  },
  {
   "cell_type": "code",
   "execution_count": 39,
   "id": "355c54b6",
   "metadata": {},
   "outputs": [],
   "source": [
    "a={1,2,3,4,5}\n",
    "b={4,5,6,7,8}"
   ]
  },
  {
   "cell_type": "code",
   "execution_count": 40,
   "id": "61cb4c29",
   "metadata": {},
   "outputs": [
    {
     "data": {
      "text/plain": [
       "{1, 2, 3, 4, 5}"
      ]
     },
     "execution_count": 40,
     "metadata": {},
     "output_type": "execute_result"
    }
   ],
   "source": [
    "a.copy()"
   ]
  },
  {
   "cell_type": "markdown",
   "id": "b025dbba",
   "metadata": {},
   "source": [
    "set(difference)"
   ]
  },
  {
   "cell_type": "code",
   "execution_count": 41,
   "id": "04e948ce",
   "metadata": {},
   "outputs": [],
   "source": [
    "a={1,2,3,4,5}\n",
    "b={4,5,6,7,8}"
   ]
  },
  {
   "cell_type": "code",
   "execution_count": 42,
   "id": "416908e4",
   "metadata": {},
   "outputs": [
    {
     "data": {
      "text/plain": [
       "{1, 2, 3}"
      ]
     },
     "execution_count": 42,
     "metadata": {},
     "output_type": "execute_result"
    }
   ],
   "source": [
    "a.difference(b)"
   ]
  },
  {
   "cell_type": "code",
   "execution_count": 43,
   "id": "f36962d1",
   "metadata": {},
   "outputs": [
    {
     "data": {
      "text/plain": [
       "{1, 2, 3, 4, 5}"
      ]
     },
     "execution_count": 43,
     "metadata": {},
     "output_type": "execute_result"
    }
   ],
   "source": [
    "a"
   ]
  },
  {
   "cell_type": "code",
   "execution_count": 44,
   "id": "e8df48df",
   "metadata": {},
   "outputs": [],
   "source": [
    "a={1,2,3,4,5}\n",
    "b={4,5,6,7,8}"
   ]
  },
  {
   "cell_type": "code",
   "execution_count": 45,
   "id": "22e4e366",
   "metadata": {},
   "outputs": [
    {
     "data": {
      "text/plain": [
       "{6, 7, 8}"
      ]
     },
     "execution_count": 45,
     "metadata": {},
     "output_type": "execute_result"
    }
   ],
   "source": [
    "b.difference(a)"
   ]
  },
  {
   "cell_type": "code",
   "execution_count": 46,
   "id": "4e6ea321",
   "metadata": {},
   "outputs": [
    {
     "data": {
      "text/plain": [
       "{4, 5, 6, 7, 8}"
      ]
     },
     "execution_count": 46,
     "metadata": {},
     "output_type": "execute_result"
    }
   ],
   "source": [
    "b"
   ]
  },
  {
   "cell_type": "markdown",
   "id": "7a4ab8a2",
   "metadata": {},
   "source": [
    "set(difference_update)"
   ]
  },
  {
   "cell_type": "code",
   "execution_count": 47,
   "id": "4566093d",
   "metadata": {},
   "outputs": [],
   "source": [
    "a={1,2,3,4,5}\n",
    "b={4,5,6,7,8}"
   ]
  },
  {
   "cell_type": "code",
   "execution_count": 48,
   "id": "3e2c12ed",
   "metadata": {},
   "outputs": [],
   "source": [
    "a.difference_update(b)"
   ]
  },
  {
   "cell_type": "code",
   "execution_count": 49,
   "id": "3db274f4",
   "metadata": {},
   "outputs": [
    {
     "data": {
      "text/plain": [
       "{1, 2, 3}"
      ]
     },
     "execution_count": 49,
     "metadata": {},
     "output_type": "execute_result"
    }
   ],
   "source": [
    "a"
   ]
  },
  {
   "cell_type": "code",
   "execution_count": 50,
   "id": "a7a36904",
   "metadata": {},
   "outputs": [],
   "source": [
    "a={1,2,3,4,5,'a'}\n",
    "b={4,5,6,7,8,'a'}"
   ]
  },
  {
   "cell_type": "code",
   "execution_count": 51,
   "id": "3234c27b",
   "metadata": {},
   "outputs": [],
   "source": [
    "b.difference_update(a)"
   ]
  },
  {
   "cell_type": "code",
   "execution_count": 52,
   "id": "0371f5c8",
   "metadata": {},
   "outputs": [
    {
     "data": {
      "text/plain": [
       "{6, 7, 8}"
      ]
     },
     "execution_count": 52,
     "metadata": {},
     "output_type": "execute_result"
    }
   ],
   "source": [
    "b"
   ]
  },
  {
   "cell_type": "markdown",
   "id": "2f5ca1ba",
   "metadata": {},
   "source": [
    "set(isdisjoint)---if both set have null value it gives true else false"
   ]
  },
  {
   "cell_type": "code",
   "execution_count": 53,
   "id": "757485b4",
   "metadata": {},
   "outputs": [],
   "source": [
    "a={1,2,3,4,5}\n",
    "b={4,5,6,7,8}"
   ]
  },
  {
   "cell_type": "code",
   "execution_count": 54,
   "id": "dfb67d18",
   "metadata": {},
   "outputs": [
    {
     "data": {
      "text/plain": [
       "False"
      ]
     },
     "execution_count": 54,
     "metadata": {},
     "output_type": "execute_result"
    }
   ],
   "source": [
    "a.isdisjoint(b)"
   ]
  },
  {
   "cell_type": "code",
   "execution_count": 55,
   "id": "a177f463",
   "metadata": {},
   "outputs": [],
   "source": [
    "a={1,2,3,4,5}\n",
    "b={6,7,8,9}"
   ]
  },
  {
   "cell_type": "code",
   "execution_count": 56,
   "id": "43b4bf53",
   "metadata": {},
   "outputs": [
    {
     "data": {
      "text/plain": [
       "True"
      ]
     },
     "execution_count": 56,
     "metadata": {},
     "output_type": "execute_result"
    }
   ],
   "source": [
    "a.isdisjoint(b)"
   ]
  },
  {
   "cell_type": "markdown",
   "id": "679cc432",
   "metadata": {},
   "source": [
    "set(discard)"
   ]
  },
  {
   "cell_type": "code",
   "execution_count": 57,
   "id": "1d2a9e61",
   "metadata": {},
   "outputs": [],
   "source": [
    "a={1,2,3,4,5}\n",
    "b={4,5,6,7,8}"
   ]
  },
  {
   "cell_type": "code",
   "execution_count": 58,
   "id": "a096a952",
   "metadata": {},
   "outputs": [],
   "source": [
    "a.discard(3)"
   ]
  },
  {
   "cell_type": "code",
   "execution_count": 59,
   "id": "1c4cf42a",
   "metadata": {},
   "outputs": [
    {
     "data": {
      "text/plain": [
       "{1, 2, 4, 5}"
      ]
     },
     "execution_count": 59,
     "metadata": {},
     "output_type": "execute_result"
    }
   ],
   "source": [
    "a"
   ]
  },
  {
   "cell_type": "code",
   "execution_count": 60,
   "id": "986aac67",
   "metadata": {},
   "outputs": [],
   "source": [
    "b.discard(8)"
   ]
  },
  {
   "cell_type": "code",
   "execution_count": 61,
   "id": "c30c6df5",
   "metadata": {},
   "outputs": [
    {
     "data": {
      "text/plain": [
       "{4, 5, 6, 7}"
      ]
     },
     "execution_count": 61,
     "metadata": {},
     "output_type": "execute_result"
    }
   ],
   "source": [
    "b"
   ]
  },
  {
   "cell_type": "markdown",
   "id": "5cae13d5",
   "metadata": {},
   "source": [
    "set(intersection)"
   ]
  },
  {
   "cell_type": "code",
   "execution_count": 62,
   "id": "2dacbba9",
   "metadata": {},
   "outputs": [],
   "source": [
    "a={1,2,3,4,5}\n",
    "b={4,5,6,7,8}"
   ]
  },
  {
   "cell_type": "code",
   "execution_count": 63,
   "id": "6a173e94",
   "metadata": {},
   "outputs": [
    {
     "data": {
      "text/plain": [
       "{4, 5}"
      ]
     },
     "execution_count": 63,
     "metadata": {},
     "output_type": "execute_result"
    }
   ],
   "source": [
    "a.intersection(b)"
   ]
  },
  {
   "cell_type": "code",
   "execution_count": 64,
   "id": "af9fe520",
   "metadata": {},
   "outputs": [
    {
     "data": {
      "text/plain": [
       "{4, 5}"
      ]
     },
     "execution_count": 64,
     "metadata": {},
     "output_type": "execute_result"
    }
   ],
   "source": [
    "b.intersection(a)"
   ]
  },
  {
   "cell_type": "markdown",
   "id": "27bfdc60",
   "metadata": {},
   "source": [
    "set(intersection_update)"
   ]
  },
  {
   "cell_type": "code",
   "execution_count": 65,
   "id": "28b2d011",
   "metadata": {},
   "outputs": [],
   "source": [
    "a={1,2,3,4,5}\n",
    "b={4,5,6,7,8}"
   ]
  },
  {
   "cell_type": "code",
   "execution_count": 66,
   "id": "f0659276",
   "metadata": {},
   "outputs": [],
   "source": [
    "a.intersection_update(b)"
   ]
  },
  {
   "cell_type": "code",
   "execution_count": 67,
   "id": "a2b7bac0",
   "metadata": {},
   "outputs": [
    {
     "data": {
      "text/plain": [
       "{4, 5}"
      ]
     },
     "execution_count": 67,
     "metadata": {},
     "output_type": "execute_result"
    }
   ],
   "source": [
    "a"
   ]
  },
  {
   "cell_type": "markdown",
   "id": "d71bd10c",
   "metadata": {},
   "source": [
    "set(issubset)"
   ]
  },
  {
   "cell_type": "code",
   "execution_count": 68,
   "id": "8f858c9a",
   "metadata": {},
   "outputs": [],
   "source": [
    "a={1,2,3,4,5}\n",
    "b={4,5,6,7,8}"
   ]
  },
  {
   "cell_type": "code",
   "execution_count": 69,
   "id": "43c963a5",
   "metadata": {},
   "outputs": [
    {
     "data": {
      "text/plain": [
       "False"
      ]
     },
     "execution_count": 69,
     "metadata": {},
     "output_type": "execute_result"
    }
   ],
   "source": [
    "a.issubset(b)"
   ]
  },
  {
   "cell_type": "code",
   "execution_count": 70,
   "id": "45f8d680",
   "metadata": {},
   "outputs": [],
   "source": [
    "a={1,2,3,4,5}\n",
    "b={6,7,8,9,10}"
   ]
  },
  {
   "cell_type": "code",
   "execution_count": 71,
   "id": "be836262",
   "metadata": {},
   "outputs": [
    {
     "data": {
      "text/plain": [
       "False"
      ]
     },
     "execution_count": 71,
     "metadata": {},
     "output_type": "execute_result"
    }
   ],
   "source": [
    "a.issubset(b)\n",
    "b.issubset(a)"
   ]
  },
  {
   "cell_type": "markdown",
   "id": "8ff03998",
   "metadata": {},
   "source": [
    "set(issuperset)--checks weather all the elementss are presented in the list A list then it gives true or false"
   ]
  },
  {
   "cell_type": "code",
   "execution_count": 72,
   "id": "a4859607",
   "metadata": {},
   "outputs": [],
   "source": [
    "a={1,2,3,4,5}\n",
    "b={4,5,6,7,8}"
   ]
  },
  {
   "cell_type": "code",
   "execution_count": 73,
   "id": "78ded8a0",
   "metadata": {},
   "outputs": [
    {
     "data": {
      "text/plain": [
       "False"
      ]
     },
     "execution_count": 73,
     "metadata": {},
     "output_type": "execute_result"
    }
   ],
   "source": [
    "a.issuperset(b)"
   ]
  },
  {
   "cell_type": "code",
   "execution_count": 74,
   "id": "643823c5",
   "metadata": {},
   "outputs": [],
   "source": [
    "a={1,2,3,4,5}\n",
    "b={1,2,3,4}"
   ]
  },
  {
   "cell_type": "code",
   "execution_count": 75,
   "id": "51062325",
   "metadata": {},
   "outputs": [
    {
     "data": {
      "text/plain": [
       "True"
      ]
     },
     "execution_count": 75,
     "metadata": {},
     "output_type": "execute_result"
    }
   ],
   "source": [
    "a.issuperset(b)"
   ]
  },
  {
   "cell_type": "code",
   "execution_count": 76,
   "id": "06ecf5cd",
   "metadata": {},
   "outputs": [
    {
     "data": {
      "text/plain": [
       "False"
      ]
     },
     "execution_count": 76,
     "metadata": {},
     "output_type": "execute_result"
    }
   ],
   "source": [
    "b.issuperset(a)"
   ]
  },
  {
   "cell_type": "markdown",
   "id": "c2b19738",
   "metadata": {},
   "source": [
    "set(pop)"
   ]
  },
  {
   "cell_type": "code",
   "execution_count": 77,
   "id": "fcd55104",
   "metadata": {},
   "outputs": [],
   "source": [
    "a={1,2,3,4,5}\n",
    "#b={4,5,6,7,8}"
   ]
  },
  {
   "cell_type": "code",
   "execution_count": 78,
   "id": "f41fda69",
   "metadata": {},
   "outputs": [
    {
     "data": {
      "text/plain": [
       "1"
      ]
     },
     "execution_count": 78,
     "metadata": {},
     "output_type": "execute_result"
    }
   ],
   "source": [
    "a.pop()"
   ]
  },
  {
   "cell_type": "code",
   "execution_count": 79,
   "id": "6f78a8b0",
   "metadata": {},
   "outputs": [],
   "source": [
    "a={1,2,3,4,5}\n",
    "b={4,5,6,7,8}"
   ]
  },
  {
   "cell_type": "code",
   "execution_count": 80,
   "id": "7725d05a",
   "metadata": {},
   "outputs": [
    {
     "data": {
      "text/plain": [
       "4"
      ]
     },
     "execution_count": 80,
     "metadata": {},
     "output_type": "execute_result"
    }
   ],
   "source": [
    "b.pop()"
   ]
  },
  {
   "cell_type": "markdown",
   "id": "965897c1",
   "metadata": {},
   "source": [
    "set(remove)"
   ]
  },
  {
   "cell_type": "code",
   "execution_count": 81,
   "id": "805b080e",
   "metadata": {},
   "outputs": [],
   "source": [
    "a={1,2,3,4,5}\n",
    "b={4,5,6,7,8}"
   ]
  },
  {
   "cell_type": "code",
   "execution_count": 82,
   "id": "7b25e98e",
   "metadata": {},
   "outputs": [],
   "source": [
    "a.remove(1)"
   ]
  },
  {
   "cell_type": "code",
   "execution_count": 83,
   "id": "268b311a",
   "metadata": {},
   "outputs": [
    {
     "data": {
      "text/plain": [
       "{2, 3, 4, 5}"
      ]
     },
     "execution_count": 83,
     "metadata": {},
     "output_type": "execute_result"
    }
   ],
   "source": [
    "a"
   ]
  },
  {
   "cell_type": "code",
   "execution_count": 84,
   "id": "9ccafdae",
   "metadata": {},
   "outputs": [],
   "source": [
    "a={1,2,3,4,5}\n",
    "b={4,5,6,7,8}"
   ]
  },
  {
   "cell_type": "code",
   "execution_count": 85,
   "id": "83ae7233",
   "metadata": {},
   "outputs": [],
   "source": [
    "b.remove(8)"
   ]
  },
  {
   "cell_type": "code",
   "execution_count": 86,
   "id": "9c03430d",
   "metadata": {},
   "outputs": [
    {
     "data": {
      "text/plain": [
       "{4, 5, 6, 7}"
      ]
     },
     "execution_count": 86,
     "metadata": {},
     "output_type": "execute_result"
    }
   ],
   "source": [
    "b"
   ]
  },
  {
   "cell_type": "markdown",
   "id": "e4e61531",
   "metadata": {},
   "source": [
    "set(symmetric_difference)"
   ]
  },
  {
   "cell_type": "code",
   "execution_count": 87,
   "id": "b1022401",
   "metadata": {},
   "outputs": [],
   "source": [
    "a={1,2,3,4,5}\n",
    "b={4,5,6,7,8}"
   ]
  },
  {
   "cell_type": "code",
   "execution_count": 88,
   "id": "b3f668c1",
   "metadata": {},
   "outputs": [
    {
     "data": {
      "text/plain": [
       "{1, 2, 3, 6, 7, 8}"
      ]
     },
     "execution_count": 88,
     "metadata": {},
     "output_type": "execute_result"
    }
   ],
   "source": [
    "a.symmetric_difference(b)"
   ]
  },
  {
   "cell_type": "code",
   "execution_count": 89,
   "id": "101cd7a6",
   "metadata": {},
   "outputs": [
    {
     "data": {
      "text/plain": [
       "{1, 2, 3, 4, 5}"
      ]
     },
     "execution_count": 89,
     "metadata": {},
     "output_type": "execute_result"
    }
   ],
   "source": [
    "a"
   ]
  },
  {
   "cell_type": "code",
   "execution_count": 90,
   "id": "80401f07",
   "metadata": {},
   "outputs": [
    {
     "data": {
      "text/plain": [
       "{1, 2, 3, 6, 7, 8}"
      ]
     },
     "execution_count": 90,
     "metadata": {},
     "output_type": "execute_result"
    }
   ],
   "source": [
    "b.symmetric_difference(a)"
   ]
  },
  {
   "cell_type": "code",
   "execution_count": 91,
   "id": "a94b769e",
   "metadata": {},
   "outputs": [
    {
     "data": {
      "text/plain": [
       "{4, 5}"
      ]
     },
     "execution_count": 91,
     "metadata": {},
     "output_type": "execute_result"
    }
   ],
   "source": [
    "a.symmetric_difference([1,2,3])"
   ]
  },
  {
   "cell_type": "code",
   "execution_count": 92,
   "id": "e22f6429",
   "metadata": {},
   "outputs": [
    {
     "data": {
      "text/plain": [
       "{4, 5}"
      ]
     },
     "execution_count": 92,
     "metadata": {},
     "output_type": "execute_result"
    }
   ],
   "source": [
    "a.symmetric_difference({1,2,3})"
   ]
  },
  {
   "cell_type": "code",
   "execution_count": 93,
   "id": "d61b0f40",
   "metadata": {},
   "outputs": [
    {
     "data": {
      "text/plain": [
       "{1, 2, 3, 4, 5, 'h', 'i'}"
      ]
     },
     "execution_count": 93,
     "metadata": {},
     "output_type": "execute_result"
    }
   ],
   "source": [
    "a.symmetric_difference('hi')"
   ]
  },
  {
   "cell_type": "code",
   "execution_count": 94,
   "id": "2faf6278",
   "metadata": {},
   "outputs": [
    {
     "data": {
      "text/plain": [
       "{1, 2, 3, 4, 5, 'hi'}"
      ]
     },
     "execution_count": 94,
     "metadata": {},
     "output_type": "execute_result"
    }
   ],
   "source": [
    "a.symmetric_difference(['hi'])"
   ]
  },
  {
   "cell_type": "code",
   "execution_count": 95,
   "id": "bf8bd217",
   "metadata": {},
   "outputs": [],
   "source": [
    "a={1,2,3,4,5}\n",
    "b={6,7,8,9,10}"
   ]
  },
  {
   "cell_type": "code",
   "execution_count": 96,
   "id": "810c1de4",
   "metadata": {},
   "outputs": [
    {
     "data": {
      "text/plain": [
       "{1, 2, 3, 4, 5, 6, 7, 8, 9, 10}"
      ]
     },
     "execution_count": 96,
     "metadata": {},
     "output_type": "execute_result"
    }
   ],
   "source": [
    "a.symmetric_difference(b)"
   ]
  },
  {
   "cell_type": "markdown",
   "id": "a24c947b",
   "metadata": {},
   "source": [
    "set(symmetric_difference_update)"
   ]
  },
  {
   "cell_type": "code",
   "execution_count": 97,
   "id": "6926039d",
   "metadata": {},
   "outputs": [],
   "source": [
    "a={1,2,3,4,5}\n",
    "b={4,5,6,7,8}"
   ]
  },
  {
   "cell_type": "code",
   "execution_count": 98,
   "id": "f615ffd3",
   "metadata": {},
   "outputs": [],
   "source": [
    "a.symmetric_difference_update('d')"
   ]
  },
  {
   "cell_type": "code",
   "execution_count": 99,
   "id": "7740ae1e",
   "metadata": {},
   "outputs": [
    {
     "data": {
      "text/plain": [
       "{1, 2, 3, 4, 5, 'd'}"
      ]
     },
     "execution_count": 99,
     "metadata": {},
     "output_type": "execute_result"
    }
   ],
   "source": [
    "a"
   ]
  },
  {
   "cell_type": "code",
   "execution_count": 100,
   "id": "bbc2af75",
   "metadata": {},
   "outputs": [],
   "source": [
    "a={1,2,3,4,5}\n",
    "b={4,5,6,7,8}"
   ]
  },
  {
   "cell_type": "code",
   "execution_count": 101,
   "id": "10708506",
   "metadata": {},
   "outputs": [],
   "source": [
    "a.symmetric_difference_update(b)"
   ]
  },
  {
   "cell_type": "code",
   "execution_count": 102,
   "id": "bd2a7d51",
   "metadata": {},
   "outputs": [
    {
     "data": {
      "text/plain": [
       "{1, 2, 3, 6, 7, 8}"
      ]
     },
     "execution_count": 102,
     "metadata": {},
     "output_type": "execute_result"
    }
   ],
   "source": [
    "a"
   ]
  },
  {
   "cell_type": "code",
   "execution_count": 103,
   "id": "71953152",
   "metadata": {},
   "outputs": [
    {
     "data": {
      "text/plain": [
       "{4, 5, 6, 7, 8}"
      ]
     },
     "execution_count": 103,
     "metadata": {},
     "output_type": "execute_result"
    }
   ],
   "source": [
    "b"
   ]
  },
  {
   "cell_type": "markdown",
   "id": "41645cc2",
   "metadata": {},
   "source": [
    "set(union)"
   ]
  },
  {
   "cell_type": "code",
   "execution_count": 104,
   "id": "84f60002",
   "metadata": {},
   "outputs": [],
   "source": [
    "a={1,2,3,4,5}\n",
    "b={4,5,6,7,8}"
   ]
  },
  {
   "cell_type": "code",
   "execution_count": 105,
   "id": "9e8927aa",
   "metadata": {},
   "outputs": [
    {
     "data": {
      "text/plain": [
       "{1, 2, 3, 4, 5}"
      ]
     },
     "execution_count": 105,
     "metadata": {},
     "output_type": "execute_result"
    }
   ],
   "source": [
    "a.union()"
   ]
  },
  {
   "cell_type": "code",
   "execution_count": 106,
   "id": "09bca366",
   "metadata": {},
   "outputs": [],
   "source": [
    "a={1,2,3,4,5}\n",
    "b={4,5,6,7,8}"
   ]
  },
  {
   "cell_type": "code",
   "execution_count": 107,
   "id": "0dbaf0c3",
   "metadata": {},
   "outputs": [
    {
     "data": {
      "text/plain": [
       "{1, 2, 3, 4, 5, 6, 7, 8}"
      ]
     },
     "execution_count": 107,
     "metadata": {},
     "output_type": "execute_result"
    }
   ],
   "source": [
    "a.union(b)"
   ]
  },
  {
   "cell_type": "code",
   "execution_count": 108,
   "id": "d9c4274f",
   "metadata": {},
   "outputs": [
    {
     "data": {
      "text/plain": [
       "{1, 2, 3, 4, 5}"
      ]
     },
     "execution_count": 108,
     "metadata": {},
     "output_type": "execute_result"
    }
   ],
   "source": [
    "a"
   ]
  },
  {
   "cell_type": "code",
   "execution_count": 109,
   "id": "38407ff5",
   "metadata": {},
   "outputs": [],
   "source": [
    "a={1,2,3,4,5}\n",
    "b={6,7,8,9,10}"
   ]
  },
  {
   "cell_type": "code",
   "execution_count": 110,
   "id": "62be4a64",
   "metadata": {},
   "outputs": [
    {
     "data": {
      "text/plain": [
       "{1, 2, 3, 4, 5, 6, 7, 8, 9, 10}"
      ]
     },
     "execution_count": 110,
     "metadata": {},
     "output_type": "execute_result"
    }
   ],
   "source": [
    "a.union(b)"
   ]
  },
  {
   "cell_type": "markdown",
   "id": "4604447a",
   "metadata": {},
   "source": [
    "set(update)"
   ]
  },
  {
   "cell_type": "code",
   "execution_count": 111,
   "id": "c17d6c21",
   "metadata": {},
   "outputs": [],
   "source": [
    "a={1,2,3,4,5}\n",
    "b={4,5,6,7,8}"
   ]
  },
  {
   "cell_type": "code",
   "execution_count": 112,
   "id": "9e61c2ec",
   "metadata": {},
   "outputs": [],
   "source": [
    "a.update()"
   ]
  },
  {
   "cell_type": "code",
   "execution_count": 113,
   "id": "ac2f6120",
   "metadata": {},
   "outputs": [
    {
     "data": {
      "text/plain": [
       "{1, 2, 3, 4, 5}"
      ]
     },
     "execution_count": 113,
     "metadata": {},
     "output_type": "execute_result"
    }
   ],
   "source": [
    "a"
   ]
  },
  {
   "cell_type": "code",
   "execution_count": 114,
   "id": "5c60ff53",
   "metadata": {},
   "outputs": [],
   "source": [
    "a.update(b)"
   ]
  },
  {
   "cell_type": "code",
   "execution_count": 115,
   "id": "67829918",
   "metadata": {},
   "outputs": [
    {
     "data": {
      "text/plain": [
       "{1, 2, 3, 4, 5, 6, 7, 8}"
      ]
     },
     "execution_count": 115,
     "metadata": {},
     "output_type": "execute_result"
    }
   ],
   "source": [
    "a"
   ]
  },
  {
   "cell_type": "code",
   "execution_count": 116,
   "id": "13e67de8",
   "metadata": {},
   "outputs": [
    {
     "data": {
      "text/plain": [
       "{1, 2, 3, 4, 5, 6, 7, 8}"
      ]
     },
     "execution_count": 116,
     "metadata": {},
     "output_type": "execute_result"
    }
   ],
   "source": [
    "a"
   ]
  },
  {
   "cell_type": "code",
   "execution_count": 117,
   "id": "7c7cf185",
   "metadata": {},
   "outputs": [
    {
     "data": {
      "text/plain": [
       "{4, 5, 6, 7, 8}"
      ]
     },
     "execution_count": 117,
     "metadata": {},
     "output_type": "execute_result"
    }
   ],
   "source": [
    "b"
   ]
  },
  {
   "cell_type": "code",
   "execution_count": 118,
   "id": "2a268b7e",
   "metadata": {},
   "outputs": [],
   "source": [
    "b.update(a)"
   ]
  },
  {
   "cell_type": "code",
   "execution_count": 119,
   "id": "3021b2ad",
   "metadata": {},
   "outputs": [
    {
     "data": {
      "text/plain": [
       "{1, 2, 3, 4, 5, 6, 7, 8}"
      ]
     },
     "execution_count": 119,
     "metadata": {},
     "output_type": "execute_result"
    }
   ],
   "source": [
    "b"
   ]
  },
  {
   "cell_type": "code",
   "execution_count": 120,
   "id": "7e394b32",
   "metadata": {},
   "outputs": [],
   "source": [
    "a={1,2,3,4,5}\n",
    "b={4,5,6,7,8}\n",
    "c={2,4,6,8,9}"
   ]
  },
  {
   "cell_type": "code",
   "execution_count": 121,
   "id": "9c949b7c",
   "metadata": {},
   "outputs": [],
   "source": [
    "a.update(c)"
   ]
  },
  {
   "cell_type": "code",
   "execution_count": 122,
   "id": "3cd4b16e",
   "metadata": {},
   "outputs": [
    {
     "data": {
      "text/plain": [
       "{1, 2, 3, 4, 5, 6, 8, 9}"
      ]
     },
     "execution_count": 122,
     "metadata": {},
     "output_type": "execute_result"
    }
   ],
   "source": [
    "a"
   ]
  },
  {
   "cell_type": "code",
   "execution_count": null,
   "id": "a12143f5",
   "metadata": {},
   "outputs": [],
   "source": []
  },
  {
   "cell_type": "markdown",
   "id": "5adfe122",
   "metadata": {},
   "source": [
    "# STRING"
   ]
  },
  {
   "cell_type": "markdown",
   "id": "eef35673",
   "metadata": {},
   "source": [
    "srting(capitalize)"
   ]
  },
  {
   "cell_type": "code",
   "execution_count": 123,
   "id": "dc5263c4",
   "metadata": {},
   "outputs": [],
   "source": [
    "a='Someshwaran'"
   ]
  },
  {
   "cell_type": "code",
   "execution_count": 124,
   "id": "f33da8f5",
   "metadata": {},
   "outputs": [
    {
     "data": {
      "text/plain": [
       "'Someshwaran'"
      ]
     },
     "execution_count": 124,
     "metadata": {},
     "output_type": "execute_result"
    }
   ],
   "source": [
    "a.capitalize()"
   ]
  },
  {
   "cell_type": "code",
   "execution_count": 125,
   "id": "fdc6a757",
   "metadata": {},
   "outputs": [],
   "source": [
    "a='0112somesh waran'"
   ]
  },
  {
   "cell_type": "code",
   "execution_count": 126,
   "id": "6e11daa4",
   "metadata": {},
   "outputs": [
    {
     "data": {
      "text/plain": [
       "'0112somesh waran'"
      ]
     },
     "execution_count": 126,
     "metadata": {},
     "output_type": "execute_result"
    }
   ],
   "source": [
    "a.capitalize()"
   ]
  },
  {
   "cell_type": "code",
   "execution_count": 127,
   "id": "379f79b5",
   "metadata": {},
   "outputs": [],
   "source": [
    "b='somesh is a good boy'"
   ]
  },
  {
   "cell_type": "code",
   "execution_count": 128,
   "id": "0b6a580a",
   "metadata": {},
   "outputs": [
    {
     "data": {
      "text/plain": [
       "'Somesh is a good boy'"
      ]
     },
     "execution_count": 128,
     "metadata": {},
     "output_type": "execute_result"
    }
   ],
   "source": [
    "b.capitalize()"
   ]
  },
  {
   "cell_type": "markdown",
   "id": "e1704b45",
   "metadata": {},
   "source": [
    "srting(casefold)"
   ]
  },
  {
   "cell_type": "code",
   "execution_count": 129,
   "id": "51b14974",
   "metadata": {},
   "outputs": [],
   "source": [
    "a='Somesh Waran'"
   ]
  },
  {
   "cell_type": "code",
   "execution_count": 130,
   "id": "f7ab8768",
   "metadata": {},
   "outputs": [
    {
     "data": {
      "text/plain": [
       "'somesh waran'"
      ]
     },
     "execution_count": 130,
     "metadata": {},
     "output_type": "execute_result"
    }
   ],
   "source": [
    "a.casefold()"
   ]
  },
  {
   "cell_type": "markdown",
   "id": "043538f0",
   "metadata": {},
   "source": [
    "string(centre)"
   ]
  },
  {
   "cell_type": "code",
   "execution_count": 131,
   "id": "1a8892c5",
   "metadata": {},
   "outputs": [],
   "source": [
    "a='SOMESH WARAN'"
   ]
  },
  {
   "cell_type": "code",
   "execution_count": 132,
   "id": "735384c6",
   "metadata": {},
   "outputs": [
    {
     "data": {
      "text/plain": [
       "'               SOMESH WARAN              '"
      ]
     },
     "execution_count": 132,
     "metadata": {},
     "output_type": "execute_result"
    }
   ],
   "source": [
    "a.center(41)"
   ]
  },
  {
   "cell_type": "code",
   "execution_count": 133,
   "id": "a5001893",
   "metadata": {},
   "outputs": [
    {
     "data": {
      "text/plain": [
       "'                                            SOMESH WARAN                                            '"
      ]
     },
     "execution_count": 133,
     "metadata": {},
     "output_type": "execute_result"
    }
   ],
   "source": [
    "a.center(100)"
   ]
  },
  {
   "cell_type": "code",
   "execution_count": 134,
   "id": "57dd76f2",
   "metadata": {},
   "outputs": [
    {
     "data": {
      "text/plain": [
       "'aaaaaaaaaaaaaaaSOMESH WARANaaaaaaaaaaaaaa'"
      ]
     },
     "execution_count": 134,
     "metadata": {},
     "output_type": "execute_result"
    }
   ],
   "source": [
    "a.center(41,'a')"
   ]
  },
  {
   "cell_type": "markdown",
   "id": "ed43fcee",
   "metadata": {},
   "source": [
    "string(isalnum)"
   ]
  },
  {
   "cell_type": "code",
   "execution_count": 135,
   "id": "844b4eee",
   "metadata": {},
   "outputs": [],
   "source": [
    "a='Someshwaran'"
   ]
  },
  {
   "cell_type": "code",
   "execution_count": 136,
   "id": "651482a3",
   "metadata": {},
   "outputs": [
    {
     "data": {
      "text/plain": [
       "True"
      ]
     },
     "execution_count": 136,
     "metadata": {},
     "output_type": "execute_result"
    }
   ],
   "source": [
    "a.isalnum()"
   ]
  },
  {
   "cell_type": "code",
   "execution_count": 137,
   "id": "bb5116ae",
   "metadata": {},
   "outputs": [],
   "source": [
    "a='Someshwaran123'"
   ]
  },
  {
   "cell_type": "code",
   "execution_count": 138,
   "id": "f5b1f8bc",
   "metadata": {},
   "outputs": [
    {
     "data": {
      "text/plain": [
       "True"
      ]
     },
     "execution_count": 138,
     "metadata": {},
     "output_type": "execute_result"
    }
   ],
   "source": [
    "a.isalnum()"
   ]
  },
  {
   "cell_type": "code",
   "execution_count": 139,
   "id": "dad53908",
   "metadata": {},
   "outputs": [
    {
     "data": {
      "text/plain": [
       "False"
      ]
     },
     "execution_count": 139,
     "metadata": {},
     "output_type": "execute_result"
    }
   ],
   "source": [
    "a='hi hello'\n",
    "a.isalnum()"
   ]
  },
  {
   "cell_type": "markdown",
   "id": "6a2715e7",
   "metadata": {},
   "source": [
    "string(isdecimal)"
   ]
  },
  {
   "cell_type": "code",
   "execution_count": 140,
   "id": "6daec5fe",
   "metadata": {},
   "outputs": [
    {
     "data": {
      "text/plain": [
       "False"
      ]
     },
     "execution_count": 140,
     "metadata": {},
     "output_type": "execute_result"
    }
   ],
   "source": [
    "a='2.3'\n",
    "a.isdecimal()"
   ]
  },
  {
   "cell_type": "code",
   "execution_count": 141,
   "id": "685e2721",
   "metadata": {},
   "outputs": [],
   "source": [
    "a=\"33.132\""
   ]
  },
  {
   "cell_type": "code",
   "execution_count": 142,
   "id": "07ad3bfd",
   "metadata": {},
   "outputs": [
    {
     "data": {
      "text/plain": [
       "False"
      ]
     },
     "execution_count": 142,
     "metadata": {},
     "output_type": "execute_result"
    }
   ],
   "source": [
    "a.isdecimal()"
   ]
  },
  {
   "cell_type": "code",
   "execution_count": 143,
   "id": "29132daa",
   "metadata": {},
   "outputs": [
    {
     "data": {
      "text/plain": [
       "True"
      ]
     },
     "execution_count": 143,
     "metadata": {},
     "output_type": "execute_result"
    }
   ],
   "source": [
    "a=\"12\"\n",
    "a.isdecimal()"
   ]
  },
  {
   "cell_type": "markdown",
   "id": "bd6c681e",
   "metadata": {},
   "source": [
    "string(isalpha)"
   ]
  },
  {
   "cell_type": "code",
   "execution_count": 144,
   "id": "5246f3fb",
   "metadata": {},
   "outputs": [
    {
     "data": {
      "text/plain": [
       "True"
      ]
     },
     "execution_count": 144,
     "metadata": {},
     "output_type": "execute_result"
    }
   ],
   "source": [
    "a='Someshwaran'\n",
    "a.isalpha()"
   ]
  },
  {
   "cell_type": "code",
   "execution_count": 145,
   "id": "51eb809a",
   "metadata": {},
   "outputs": [
    {
     "data": {
      "text/plain": [
       "False"
      ]
     },
     "execution_count": 145,
     "metadata": {},
     "output_type": "execute_result"
    }
   ],
   "source": [
    "a='Someshwaran123'\n",
    "a.isalpha()"
   ]
  },
  {
   "cell_type": "markdown",
   "id": "9e0d7354",
   "metadata": {},
   "source": [
    "string(isascii)"
   ]
  },
  {
   "cell_type": "code",
   "execution_count": 146,
   "id": "4055a787",
   "metadata": {},
   "outputs": [
    {
     "data": {
      "text/plain": [
       "True"
      ]
     },
     "execution_count": 146,
     "metadata": {},
     "output_type": "execute_result"
    }
   ],
   "source": [
    "a='Someshwaran'\n",
    "a.isascii()"
   ]
  },
  {
   "cell_type": "code",
   "execution_count": 147,
   "id": "dbbe8ad0",
   "metadata": {},
   "outputs": [
    {
     "data": {
      "text/plain": [
       "True"
      ]
     },
     "execution_count": 147,
     "metadata": {},
     "output_type": "execute_result"
    }
   ],
   "source": [
    "a='Someshwaran123'\n",
    "a.isascii()"
   ]
  },
  {
   "cell_type": "code",
   "execution_count": 148,
   "id": "e3dddf48",
   "metadata": {},
   "outputs": [
    {
     "data": {
      "text/plain": [
       "True"
      ]
     },
     "execution_count": 148,
     "metadata": {},
     "output_type": "execute_result"
    }
   ],
   "source": [
    "a='Someshwaran@'\n",
    "a.isascii()"
   ]
  },
  {
   "cell_type": "code",
   "execution_count": 149,
   "id": "2026fecb",
   "metadata": {},
   "outputs": [
    {
     "data": {
      "text/plain": [
       "True"
      ]
     },
     "execution_count": 149,
     "metadata": {},
     "output_type": "execute_result"
    }
   ],
   "source": [
    "a=''\n",
    "a.isascii()"
   ]
  },
  {
   "cell_type": "markdown",
   "id": "4ee357c6",
   "metadata": {},
   "source": [
    "string(isdigit)"
   ]
  },
  {
   "cell_type": "code",
   "execution_count": 150,
   "id": "d26a7186",
   "metadata": {},
   "outputs": [
    {
     "data": {
      "text/plain": [
       "False"
      ]
     },
     "execution_count": 150,
     "metadata": {},
     "output_type": "execute_result"
    }
   ],
   "source": [
    "a='Someshwaran'\n",
    "a.isdigit()"
   ]
  },
  {
   "cell_type": "code",
   "execution_count": 151,
   "id": "09ef50e8",
   "metadata": {},
   "outputs": [
    {
     "data": {
      "text/plain": [
       "True"
      ]
     },
     "execution_count": 151,
     "metadata": {},
     "output_type": "execute_result"
    }
   ],
   "source": [
    "a='12345'\n",
    "a.isdigit()"
   ]
  },
  {
   "cell_type": "code",
   "execution_count": 152,
   "id": "bb5c41c4",
   "metadata": {},
   "outputs": [
    {
     "data": {
      "text/plain": [
       "False"
      ]
     },
     "execution_count": 152,
     "metadata": {},
     "output_type": "execute_result"
    }
   ],
   "source": [
    "a='12.345'\n",
    "a.isdigit()"
   ]
  },
  {
   "cell_type": "markdown",
   "id": "0baba346",
   "metadata": {},
   "source": [
    "string(isidentifier)"
   ]
  },
  {
   "cell_type": "code",
   "execution_count": 153,
   "id": "7456205d",
   "metadata": {},
   "outputs": [
    {
     "data": {
      "text/plain": [
       "True"
      ]
     },
     "execution_count": 153,
     "metadata": {},
     "output_type": "execute_result"
    }
   ],
   "source": [
    "a='Someshwaran'\n",
    "a.isidentifier()"
   ]
  },
  {
   "cell_type": "code",
   "execution_count": 154,
   "id": "a0e16c72",
   "metadata": {},
   "outputs": [
    {
     "data": {
      "text/plain": [
       "True"
      ]
     },
     "execution_count": 154,
     "metadata": {},
     "output_type": "execute_result"
    }
   ],
   "source": [
    "a='Somesh_waran'\n",
    "a.isidentifier()"
   ]
  },
  {
   "cell_type": "code",
   "execution_count": 155,
   "id": "05e2563f",
   "metadata": {},
   "outputs": [
    {
     "data": {
      "text/plain": [
       "True"
      ]
     },
     "execution_count": 155,
     "metadata": {},
     "output_type": "execute_result"
    }
   ],
   "source": [
    "a='Somesh_waran12'\n",
    "a.isidentifier()"
   ]
  },
  {
   "cell_type": "code",
   "execution_count": 156,
   "id": "dfea8b50",
   "metadata": {},
   "outputs": [
    {
     "data": {
      "text/plain": [
       "True"
      ]
     },
     "execution_count": 156,
     "metadata": {},
     "output_type": "execute_result"
    }
   ],
   "source": [
    "a='Someshwaran'\n",
    "a.isidentifier()"
   ]
  },
  {
   "cell_type": "code",
   "execution_count": 157,
   "id": "b3c85cb0",
   "metadata": {},
   "outputs": [
    {
     "data": {
      "text/plain": [
       "False"
      ]
     },
     "execution_count": 157,
     "metadata": {},
     "output_type": "execute_result"
    }
   ],
   "source": [
    "a='Somesh@waran'\n",
    "a.isidentifier()"
   ]
  },
  {
   "cell_type": "markdown",
   "id": "2b1cccae",
   "metadata": {},
   "source": [
    "string(islowers)"
   ]
  },
  {
   "cell_type": "code",
   "execution_count": 158,
   "id": "9d92f93c",
   "metadata": {},
   "outputs": [
    {
     "data": {
      "text/plain": [
       "False"
      ]
     },
     "execution_count": 158,
     "metadata": {},
     "output_type": "execute_result"
    }
   ],
   "source": [
    "a='Someshwaran'\n",
    "a.islower()"
   ]
  },
  {
   "cell_type": "code",
   "execution_count": 159,
   "id": "01706034",
   "metadata": {},
   "outputs": [
    {
     "data": {
      "text/plain": [
       "True"
      ]
     },
     "execution_count": 159,
     "metadata": {},
     "output_type": "execute_result"
    }
   ],
   "source": [
    "a='someshwaran'\n",
    "a.islower()"
   ]
  },
  {
   "cell_type": "code",
   "execution_count": 160,
   "id": "6d01732c",
   "metadata": {},
   "outputs": [
    {
     "data": {
      "text/plain": [
       "True"
      ]
     },
     "execution_count": 160,
     "metadata": {},
     "output_type": "execute_result"
    }
   ],
   "source": [
    "a='someshwaran12'\n",
    "a.islower()"
   ]
  },
  {
   "cell_type": "code",
   "execution_count": 161,
   "id": "9b155783",
   "metadata": {},
   "outputs": [
    {
     "data": {
      "text/plain": [
       "True"
      ]
     },
     "execution_count": 161,
     "metadata": {},
     "output_type": "execute_result"
    }
   ],
   "source": [
    "a='someshwaran@'\n",
    "a.islower()"
   ]
  },
  {
   "cell_type": "markdown",
   "id": "4cfab045",
   "metadata": {},
   "source": [
    "string(isnumeric)"
   ]
  },
  {
   "cell_type": "code",
   "execution_count": 162,
   "id": "5f160d27",
   "metadata": {},
   "outputs": [
    {
     "data": {
      "text/plain": [
       "False"
      ]
     },
     "execution_count": 162,
     "metadata": {},
     "output_type": "execute_result"
    }
   ],
   "source": [
    "a='Someshwaran'\n",
    "a.isnumeric()"
   ]
  },
  {
   "cell_type": "code",
   "execution_count": 163,
   "id": "45cb95e9",
   "metadata": {},
   "outputs": [
    {
     "data": {
      "text/plain": [
       "True"
      ]
     },
     "execution_count": 163,
     "metadata": {},
     "output_type": "execute_result"
    }
   ],
   "source": [
    "a='12345'\n",
    "a.isnumeric()"
   ]
  },
  {
   "cell_type": "code",
   "execution_count": 164,
   "id": "74cc446b",
   "metadata": {},
   "outputs": [
    {
     "data": {
      "text/plain": [
       "False"
      ]
     },
     "execution_count": 164,
     "metadata": {},
     "output_type": "execute_result"
    }
   ],
   "source": [
    "a='12.345'\n",
    "a.isnumeric()"
   ]
  },
  {
   "cell_type": "code",
   "execution_count": 165,
   "id": "190fec57",
   "metadata": {},
   "outputs": [
    {
     "data": {
      "text/plain": [
       "False"
      ]
     },
     "execution_count": 165,
     "metadata": {},
     "output_type": "execute_result"
    }
   ],
   "source": [
    "a='12345@'\n",
    "a.isnumeric()"
   ]
  },
  {
   "cell_type": "markdown",
   "id": "038d58bd",
   "metadata": {},
   "source": [
    "string(isprintables)"
   ]
  },
  {
   "cell_type": "code",
   "execution_count": 166,
   "id": "da7ea567",
   "metadata": {},
   "outputs": [
    {
     "data": {
      "text/plain": [
       "True"
      ]
     },
     "execution_count": 166,
     "metadata": {},
     "output_type": "execute_result"
    }
   ],
   "source": [
    "a='Someshwaran'\n",
    "a.isprintable()"
   ]
  },
  {
   "cell_type": "code",
   "execution_count": 167,
   "id": "1c1413b8",
   "metadata": {},
   "outputs": [
    {
     "data": {
      "text/plain": [
       "True"
      ]
     },
     "execution_count": 167,
     "metadata": {},
     "output_type": "execute_result"
    }
   ],
   "source": [
    "a='Someshwaran123'\n",
    "a.isprintable()"
   ]
  },
  {
   "cell_type": "code",
   "execution_count": 168,
   "id": "3106d85f",
   "metadata": {},
   "outputs": [
    {
     "data": {
      "text/plain": [
       "True"
      ]
     },
     "execution_count": 168,
     "metadata": {},
     "output_type": "execute_result"
    }
   ],
   "source": [
    "a='Someshwaran@'\n",
    "a.isprintable()"
   ]
  },
  {
   "cell_type": "code",
   "execution_count": 169,
   "id": "96ba9869",
   "metadata": {},
   "outputs": [
    {
     "data": {
      "text/plain": [
       "True"
      ]
     },
     "execution_count": 169,
     "metadata": {},
     "output_type": "execute_result"
    }
   ],
   "source": [
    "a='Somesh waran'\n",
    "a.isprintable()"
   ]
  },
  {
   "cell_type": "markdown",
   "id": "932d9465",
   "metadata": {},
   "source": [
    "string(isspace)"
   ]
  },
  {
   "cell_type": "code",
   "execution_count": 170,
   "id": "9b11c93f",
   "metadata": {},
   "outputs": [
    {
     "data": {
      "text/plain": [
       "False"
      ]
     },
     "execution_count": 170,
     "metadata": {},
     "output_type": "execute_result"
    }
   ],
   "source": [
    "a='Someshwaran'\n",
    "a.isspace()"
   ]
  },
  {
   "cell_type": "code",
   "execution_count": 171,
   "id": "a187f1d8",
   "metadata": {},
   "outputs": [
    {
     "data": {
      "text/plain": [
       "False"
      ]
     },
     "execution_count": 171,
     "metadata": {},
     "output_type": "execute_result"
    }
   ],
   "source": [
    "a='Somesh waran'\n",
    "a.isspace()"
   ]
  },
  {
   "cell_type": "code",
   "execution_count": 172,
   "id": "804cd28d",
   "metadata": {},
   "outputs": [
    {
     "data": {
      "text/plain": [
       "True"
      ]
     },
     "execution_count": 172,
     "metadata": {},
     "output_type": "execute_result"
    }
   ],
   "source": [
    "a=\" \"\n",
    "a.isspace()"
   ]
  },
  {
   "cell_type": "markdown",
   "id": "3a6e1592",
   "metadata": {},
   "source": [
    "string(istitle)"
   ]
  },
  {
   "cell_type": "code",
   "execution_count": 173,
   "id": "808c977b",
   "metadata": {},
   "outputs": [
    {
     "data": {
      "text/plain": [
       "True"
      ]
     },
     "execution_count": 173,
     "metadata": {},
     "output_type": "execute_result"
    }
   ],
   "source": [
    "a='Someshwaran Is Studying In Srm '\n",
    "a.istitle()"
   ]
  },
  {
   "cell_type": "code",
   "execution_count": 174,
   "id": "89d84b2f",
   "metadata": {},
   "outputs": [
    {
     "data": {
      "text/plain": [
       "False"
      ]
     },
     "execution_count": 174,
     "metadata": {},
     "output_type": "execute_result"
    }
   ],
   "source": [
    "a='Someshwaran Is Studying In SRM '\n",
    "a.istitle()"
   ]
  },
  {
   "cell_type": "code",
   "execution_count": 175,
   "id": "da78feb1",
   "metadata": {},
   "outputs": [
    {
     "data": {
      "text/plain": [
       "True"
      ]
     },
     "execution_count": 175,
     "metadata": {},
     "output_type": "execute_result"
    }
   ],
   "source": [
    "a='Someshwaran Is Studying In Srm12 '\n",
    "a.istitle()"
   ]
  },
  {
   "cell_type": "code",
   "execution_count": 176,
   "id": "47f184c0",
   "metadata": {},
   "outputs": [
    {
     "data": {
      "text/plain": [
       "True"
      ]
     },
     "execution_count": 176,
     "metadata": {},
     "output_type": "execute_result"
    }
   ],
   "source": [
    "a='12Someshwaran Is Studying In Srm12 '\n",
    "a.istitle()"
   ]
  },
  {
   "cell_type": "markdown",
   "id": "0c936afa",
   "metadata": {},
   "source": [
    "string(isupper)"
   ]
  },
  {
   "cell_type": "code",
   "execution_count": 177,
   "id": "87caa9ae",
   "metadata": {},
   "outputs": [
    {
     "data": {
      "text/plain": [
       "False"
      ]
     },
     "execution_count": 177,
     "metadata": {},
     "output_type": "execute_result"
    }
   ],
   "source": [
    "a='Someshwaran'\n",
    "a.isupper()"
   ]
  },
  {
   "cell_type": "code",
   "execution_count": 178,
   "id": "169cba45",
   "metadata": {},
   "outputs": [
    {
     "data": {
      "text/plain": [
       "True"
      ]
     },
     "execution_count": 178,
     "metadata": {},
     "output_type": "execute_result"
    }
   ],
   "source": [
    "a='SOMESHWARAN'\n",
    "a.isupper()"
   ]
  },
  {
   "cell_type": "code",
   "execution_count": 179,
   "id": "68810473",
   "metadata": {},
   "outputs": [
    {
     "data": {
      "text/plain": [
       "True"
      ]
     },
     "execution_count": 179,
     "metadata": {},
     "output_type": "execute_result"
    }
   ],
   "source": [
    "a='SOMESHWARAN12'\n",
    "a.isupper()"
   ]
  },
  {
   "cell_type": "code",
   "execution_count": 180,
   "id": "e8736b90",
   "metadata": {},
   "outputs": [
    {
     "data": {
      "text/plain": [
       "True"
      ]
     },
     "execution_count": 180,
     "metadata": {},
     "output_type": "execute_result"
    }
   ],
   "source": [
    "a='12SOMESHWARAN@'\n",
    "a.isupper()"
   ]
  },
  {
   "cell_type": "markdown",
   "id": "5b314e93",
   "metadata": {},
   "source": [
    "string(lstrip)"
   ]
  },
  {
   "cell_type": "code",
   "execution_count": 181,
   "id": "debb2fca",
   "metadata": {},
   "outputs": [
    {
     "data": {
      "text/plain": [
       "'Somesh is a good    boy'"
      ]
     },
     "execution_count": 181,
     "metadata": {},
     "output_type": "execute_result"
    }
   ],
   "source": [
    "a='    Somesh is a good    boy   '\n",
    "a.strip()"
   ]
  },
  {
   "cell_type": "code",
   "execution_count": 182,
   "id": "e4b73f23",
   "metadata": {},
   "outputs": [
    {
     "data": {
      "text/plain": [
       "'Somesh is a good    boy   '"
      ]
     },
     "execution_count": 182,
     "metadata": {},
     "output_type": "execute_result"
    }
   ],
   "source": [
    "a='    Somesh is a good    boy   '\n",
    "a.lstrip()"
   ]
  },
  {
   "cell_type": "code",
   "execution_count": 183,
   "id": "a2827410",
   "metadata": {},
   "outputs": [
    {
     "data": {
      "text/plain": [
       "'    Somesh is a good    boy'"
      ]
     },
     "execution_count": 183,
     "metadata": {},
     "output_type": "execute_result"
    }
   ],
   "source": [
    "a='    Somesh is a good    boy   '\n",
    "a.rstrip()"
   ]
  },
  {
   "cell_type": "markdown",
   "id": "fc8a14c4",
   "metadata": {},
   "source": [
    "string(lower)"
   ]
  },
  {
   "cell_type": "code",
   "execution_count": 184,
   "id": "f9a5f6fd",
   "metadata": {},
   "outputs": [
    {
     "data": {
      "text/plain": [
       "'    somesh is a good    boy   '"
      ]
     },
     "execution_count": 184,
     "metadata": {},
     "output_type": "execute_result"
    }
   ],
   "source": [
    "a='    Somesh Is a good    boy   '\n",
    "a.lower()"
   ]
  },
  {
   "cell_type": "markdown",
   "id": "46735631",
   "metadata": {},
   "source": [
    "string(upper)"
   ]
  },
  {
   "cell_type": "code",
   "execution_count": 185,
   "id": "4fa8ef98",
   "metadata": {},
   "outputs": [
    {
     "data": {
      "text/plain": [
       "'    SOMESH IS A GOOD    BOY   '"
      ]
     },
     "execution_count": 185,
     "metadata": {},
     "output_type": "execute_result"
    }
   ],
   "source": [
    "a='    Somesh Is a good    boy   '\n",
    "a.upper()"
   ]
  },
  {
   "cell_type": "markdown",
   "id": "cf866285",
   "metadata": {},
   "source": [
    "string(split)"
   ]
  },
  {
   "cell_type": "code",
   "execution_count": 186,
   "id": "9822ed2f",
   "metadata": {},
   "outputs": [
    {
     "data": {
      "text/plain": [
       "['Someshwaran', 'is', 'a', 'good', 'boy']"
      ]
     },
     "execution_count": 186,
     "metadata": {},
     "output_type": "execute_result"
    }
   ],
   "source": [
    "a='Someshwaran is a  good boy'\n",
    "a.split()"
   ]
  },
  {
   "cell_type": "code",
   "execution_count": 187,
   "id": "489cf8a4",
   "metadata": {},
   "outputs": [
    {
     "data": {
      "text/plain": [
       "['Someshwaran ', ' a  good boy']"
      ]
     },
     "execution_count": 187,
     "metadata": {},
     "output_type": "execute_result"
    }
   ],
   "source": [
    "a='Someshwaran is a  good boy'\n",
    "a.split('is')"
   ]
  },
  {
   "cell_type": "markdown",
   "id": "b02c81fd",
   "metadata": {},
   "source": [
    "string(swapcase)"
   ]
  },
  {
   "cell_type": "code",
   "execution_count": 188,
   "id": "a6f4820c",
   "metadata": {},
   "outputs": [
    {
     "data": {
      "text/plain": [
       "'sOMESHWARAN IS A  GOOD BOY'"
      ]
     },
     "execution_count": 188,
     "metadata": {},
     "output_type": "execute_result"
    }
   ],
   "source": [
    "a='Someshwaran is a  good boy'\n",
    "a.swapcase()"
   ]
  },
  {
   "cell_type": "code",
   "execution_count": null,
   "id": "40ae1e4b",
   "metadata": {},
   "outputs": [],
   "source": []
  },
  {
   "cell_type": "code",
   "execution_count": null,
   "id": "2e96fd8a",
   "metadata": {},
   "outputs": [],
   "source": []
  }
 ],
 "metadata": {
  "kernelspec": {
   "display_name": "Python 3 (ipykernel)",
   "language": "python",
   "name": "python3"
  },
  "language_info": {
   "codemirror_mode": {
    "name": "ipython",
    "version": 3
   },
   "file_extension": ".py",
   "mimetype": "text/x-python",
   "name": "python",
   "nbconvert_exporter": "python",
   "pygments_lexer": "ipython3",
   "version": "3.10.9"
  }
 },
 "nbformat": 4,
 "nbformat_minor": 5
}
